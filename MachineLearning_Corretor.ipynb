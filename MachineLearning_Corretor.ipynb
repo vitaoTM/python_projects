{
  "nbformat": 4,
  "nbformat_minor": 0,
  "metadata": {
    "colab": {
      "name": "MachineLearning - Corretor",
      "provenance": [],
      "mount_file_id": "1b47xHtGArg-C3yVYV2hWA9tUAOjch6ZP",
      "authorship_tag": "ABX9TyP/FoY+PVUX1U3s6q8tovO+",
      "include_colab_link": true
    },
    "kernelspec": {
      "name": "python3",
      "display_name": "Python 3"
    },
    "language_info": {
      "name": "python"
    }
  },
  "cells": [
    {
      "cell_type": "markdown",
      "metadata": {
        "id": "view-in-github",
        "colab_type": "text"
      },
      "source": [
        "<a href=\"https://colab.research.google.com/github/vitaoTM/python_projects/blob/master/MachineLearning_Corretor.ipynb\" target=\"_parent\"><img src=\"https://colab.research.google.com/assets/colab-badge.svg\" alt=\"Open In Colab\"/></a>"
      ]
    },
    {
      "cell_type": "markdown",
      "source": [
        "# Importando ferramentas para o projeto"
      ],
      "metadata": {
        "id": "RyrHVhQoXw2_"
      }
    },
    {
      "cell_type": "code",
      "execution_count": 97,
      "metadata": {
        "colab": {
          "base_uri": "https://localhost:8080/"
        },
        "id": "4kdu0-tsxnBI",
        "outputId": "9480e280-71cf-42dd-f1fb-5439f6fe6de1"
      },
      "outputs": [
        {
          "output_type": "stream",
          "name": "stdout",
          "text": [
            "[nltk_data] Downloading package punkt to /root/nltk_data...\n",
            "[nltk_data]   Package punkt is already up-to-date!\n"
          ]
        },
        {
          "output_type": "execute_result",
          "data": {
            "text/plain": [
              "True"
            ]
          },
          "metadata": {},
          "execution_count": 97
        }
      ],
      "source": [
        "import pandas as pd\n",
        "import nltk\n",
        "nltk.download('punkt')\n"
      ]
    },
    {
      "cell_type": "code",
      "source": [
        "with open('/content/drive/MyDrive/CODE/ALURA/corretor-master/artigos.txt', 'r') as f:\n",
        "    artigos = f.read()\n",
        "\n",
        "print(artigos[:500])"
      ],
      "metadata": {
        "colab": {
          "base_uri": "https://localhost:8080/"
        },
        "id": "5G6p3zMBxs9-",
        "outputId": "d495ab08-f7a3-4574-9efc-ea59f99c0cd8"
      },
      "execution_count": 98,
      "outputs": [
        {
          "output_type": "stream",
          "name": "stdout",
          "text": [
            "\n",
            "\n",
            "\n",
            "imagem \n",
            "\n",
            "Temos a seguinte classe que representa um usuário no nosso sistema:\n",
            "\n",
            "java\n",
            "\n",
            "Para salvar um novo usuário, várias validações são feitas, como por exemplo: Ver se o nome só contém letras, [**o CPF só números**] e ver se o usuário possui no mínimo 18 anos. Veja o método que faz essa validação:\n",
            "\n",
            "java \n",
            "\n",
            "Suponha agora que eu tenha outra classe, a classe `Produto`, que contém um atributo nome e eu quero fazer a mesma validação que fiz para o nome do usuário: Ver se só contém letras. E aí? Vou\n"
          ]
        }
      ]
    },
    {
      "cell_type": "markdown",
      "source": [
        "** Numero de caracteres no conjunto de dados**"
      ],
      "metadata": {
        "id": "9jZIp00k1a4Z"
      }
    },
    {
      "cell_type": "code",
      "source": [
        "len(artigos)"
      ],
      "metadata": {
        "colab": {
          "base_uri": "https://localhost:8080/"
        },
        "id": "5kYmyNC7k90v",
        "outputId": "62ebfb56-e47e-40c1-a19d-f8524b24525e"
      },
      "execution_count": 99,
      "outputs": [
        {
          "output_type": "execute_result",
          "data": {
            "text/plain": [
              "2605046"
            ]
          },
          "metadata": {},
          "execution_count": 99
        }
      ]
    },
    {
      "cell_type": "code",
      "source": [
        "len('Olá')"
      ],
      "metadata": {
        "colab": {
          "base_uri": "https://localhost:8080/"
        },
        "id": "qeJp8YWDmh8M",
        "outputId": "550dfebd-dd7f-4ee6-8207-42e1d7ee2199"
      },
      "execution_count": 100,
      "outputs": [
        {
          "output_type": "execute_result",
          "data": {
            "text/plain": [
              "3"
            ]
          },
          "metadata": {},
          "execution_count": 100
        }
      ]
    },
    {
      "cell_type": "code",
      "source": [
        "texto_exemplo = 'Olá, tudo bem?'"
      ],
      "metadata": {
        "id": "aQOQeNyZmv5W"
      },
      "execution_count": 101,
      "outputs": []
    },
    {
      "cell_type": "code",
      "source": [
        "tokens = texto_exemplo.split()"
      ],
      "metadata": {
        "id": "Efqo7yO_m6xA"
      },
      "execution_count": 102,
      "outputs": []
    },
    {
      "cell_type": "code",
      "source": [
        "tokens"
      ],
      "metadata": {
        "colab": {
          "base_uri": "https://localhost:8080/"
        },
        "id": "0HX3ZCC0nybo",
        "outputId": "c600a0c6-af51-4a3e-f716-3e255c588ea9"
      },
      "execution_count": 103,
      "outputs": [
        {
          "output_type": "execute_result",
          "data": {
            "text/plain": [
              "['Olá,', 'tudo', 'bem?']"
            ]
          },
          "metadata": {},
          "execution_count": 103
        }
      ]
    },
    {
      "cell_type": "code",
      "source": [
        "print(len(tokens))"
      ],
      "metadata": {
        "colab": {
          "base_uri": "https://localhost:8080/"
        },
        "id": "ucmR9Yk3n0Xm",
        "outputId": "be16e18a-ccbd-45eb-84e9-920418e8127a"
      },
      "execution_count": 104,
      "outputs": [
        {
          "output_type": "stream",
          "name": "stdout",
          "text": [
            "3\n"
          ]
        }
      ]
    },
    {
      "cell_type": "code",
      "source": [
        "palavras_separadas =  nltk.tokenize.word_tokenize(texto_exemplo)"
      ],
      "metadata": {
        "id": "rllBncYqodNy"
      },
      "execution_count": 105,
      "outputs": []
    },
    {
      "cell_type": "code",
      "source": [
        "print(palavras_separadas)"
      ],
      "metadata": {
        "colab": {
          "base_uri": "https://localhost:8080/"
        },
        "id": "tGf6xgZqrKyF",
        "outputId": "49bb7ae9-0830-4c54-98d6-8d5d78dd5a6d"
      },
      "execution_count": 106,
      "outputs": [
        {
          "output_type": "stream",
          "name": "stdout",
          "text": [
            "['Olá', ',', 'tudo', 'bem', '?']\n"
          ]
        }
      ]
    },
    {
      "cell_type": "code",
      "source": [
        "len(palavras_separadas)"
      ],
      "metadata": {
        "colab": {
          "base_uri": "https://localhost:8080/"
        },
        "id": "_T3apyu5rofg",
        "outputId": "7fd4f702-ebe4-4aaf-d654-0420d17a1818"
      },
      "execution_count": 107,
      "outputs": [
        {
          "output_type": "execute_result",
          "data": {
            "text/plain": [
              "5"
            ]
          },
          "metadata": {},
          "execution_count": 107
        }
      ]
    },
    {
      "cell_type": "markdown",
      "source": [
        "**Descobrindo se a é palavra ou pontuação**"
      ],
      "metadata": {
        "id": "dvT5fwP2utfd"
      }
    },
    {
      "cell_type": "code",
      "source": [
        "'palavra'.isalpha()"
      ],
      "metadata": {
        "colab": {
          "base_uri": "https://localhost:8080/"
        },
        "id": "k7_fsoCNugvH",
        "outputId": "a5fb8d4e-0e92-4381-be74-b9332587d7bc"
      },
      "execution_count": 108,
      "outputs": [
        {
          "output_type": "execute_result",
          "data": {
            "text/plain": [
              "True"
            ]
          },
          "metadata": {},
          "execution_count": 108
        }
      ]
    },
    {
      "cell_type": "code",
      "source": [
        "def separa_palavras(lista_token):\n",
        "    lista_palavras = []\n",
        "    for tokens in lista_token:\n",
        "        if tokens.isalpha():\n",
        "            lista_palavras.append(tokens)\n",
        "    return lista_palavras\n"
      ],
      "metadata": {
        "id": "X3vjtA1GuIjq"
      },
      "execution_count": 109,
      "outputs": []
    },
    {
      "cell_type": "code",
      "source": [
        "separa_palavras(palavras_separadas)"
      ],
      "metadata": {
        "colab": {
          "base_uri": "https://localhost:8080/"
        },
        "id": "z8sPOzHSveT9",
        "outputId": "aad2d245-ac4b-448f-a77e-a952c23eddc4"
      },
      "execution_count": 110,
      "outputs": [
        {
          "output_type": "execute_result",
          "data": {
            "text/plain": [
              "['Olá', 'tudo', 'bem']"
            ]
          },
          "metadata": {},
          "execution_count": 110
        }
      ]
    },
    {
      "cell_type": "code",
      "source": [
        "lista_tokens = nltk.tokenize.word_tokenize(artigos)\n",
        "lista_palavras = separa_palavras(lista_tokens)\n",
        "print(f'Quantidade de palavras no texto: {len(lista_palavras)}')"
      ],
      "metadata": {
        "colab": {
          "base_uri": "https://localhost:8080/"
        },
        "id": "ZfUavffQvk2f",
        "outputId": "3091a5bf-4190-42c8-cbcd-810751737288"
      },
      "execution_count": 111,
      "outputs": [
        {
          "output_type": "stream",
          "name": "stdout",
          "text": [
            "Quantidade de palavras no texto: 393914\n"
          ]
        }
      ]
    },
    {
      "cell_type": "markdown",
      "source": [
        "**Normalizando o texto**"
      ],
      "metadata": {
        "id": "sd6AfMXby600"
      }
    },
    {
      "cell_type": "code",
      "source": [
        "def normalizacao(lista_palavras):\n",
        "    lista_normalizada = []\n",
        "    for palavra in lista_palavras:\n",
        "        lista_normalizada.append(palavra.lower())\n",
        "    return lista_normalizada\n",
        "\n",
        "lista_normalizada = normalizacao(lista_palavras)\n",
        "print(lista_normalizada[:5])"
      ],
      "metadata": {
        "colab": {
          "base_uri": "https://localhost:8080/"
        },
        "id": "mx0HtRkxxrr2",
        "outputId": "3335c943-29ac-4fa3-df4c-d8c8466607ba"
      },
      "execution_count": 112,
      "outputs": [
        {
          "output_type": "stream",
          "name": "stdout",
          "text": [
            "['imagem', 'temos', 'a', 'seguinte', 'classe']\n"
          ]
        }
      ]
    },
    {
      "cell_type": "code",
      "source": [
        "print(f'Numero de tipos de palavra {len(set(lista_normalizada))}')"
      ],
      "metadata": {
        "colab": {
          "base_uri": "https://localhost:8080/"
        },
        "id": "9KDdwQ1Iz9zm",
        "outputId": "95adbf60-f3f3-430b-cf15-cc388327b6df"
      },
      "execution_count": 113,
      "outputs": [
        {
          "output_type": "stream",
          "name": "stdout",
          "text": [
            "Numero de tipos de palavra 17652\n"
          ]
        }
      ]
    },
    {
      "cell_type": "markdown",
      "source": [
        "# Criando um Corretor automatico"
      ],
      "metadata": {
        "id": "DvgUdys__X06"
      }
    },
    {
      "cell_type": "code",
      "source": [
        "lista = [1,2,3]\n",
        "lista[1:3]"
      ],
      "metadata": {
        "colab": {
          "base_uri": "https://localhost:8080/"
        },
        "id": "YcB-EIHRCIVM",
        "outputId": "7218e56e-0584-4409-df82-31b1a78d6b33"
      },
      "execution_count": 114,
      "outputs": [
        {
          "output_type": "execute_result",
          "data": {
            "text/plain": [
              "[2, 3]"
            ]
          },
          "metadata": {},
          "execution_count": 114
        }
      ]
    },
    {
      "cell_type": "code",
      "source": [
        "palavra_exemplo = \"lgica\"\n",
        "def insere_letras(fatias):\n",
        "    novas_palavras = []\n",
        "    letras = 'abcdefghijklmnopqrstuvwxyzàáâãèéêìíîòóôõùúûç'\n",
        "    for E, D in fatias:\n",
        "        for letra in letras:\n",
        "            novas_palavras.append(E + letra + D)\n",
        "\n",
        "    return novas_palavras\n",
        "\n",
        "def gerador_palavras(palavra):\n",
        "    fatias = []\n",
        "    for i in range(len(palavra)):\n",
        "        fatias.append((palavra[:i],palavra[i:]))\n",
        "    print(fatias)\n",
        "    palavras_geradas = insere_letras(fatias)\n",
        "    return palavras_geradas\n",
        "\n",
        "gerador_palavras(palavra_exemplo)"
      ],
      "metadata": {
        "colab": {
          "base_uri": "https://localhost:8080/"
        },
        "id": "t6rlAspX0kVQ",
        "outputId": "54596472-8dd1-4b7e-fd51-ea3e6c6f813c"
      },
      "execution_count": 129,
      "outputs": [
        {
          "output_type": "stream",
          "name": "stdout",
          "text": [
            "[('', 'lgica'), ('l', 'gica'), ('lg', 'ica'), ('lgi', 'ca'), ('lgic', 'a')]\n"
          ]
        },
        {
          "output_type": "execute_result",
          "data": {
            "text/plain": [
              "['algica',\n",
              " 'blgica',\n",
              " 'clgica',\n",
              " 'dlgica',\n",
              " 'elgica',\n",
              " 'flgica',\n",
              " 'glgica',\n",
              " 'hlgica',\n",
              " 'ilgica',\n",
              " 'jlgica',\n",
              " 'klgica',\n",
              " 'llgica',\n",
              " 'mlgica',\n",
              " 'nlgica',\n",
              " 'olgica',\n",
              " 'plgica',\n",
              " 'qlgica',\n",
              " 'rlgica',\n",
              " 'slgica',\n",
              " 'tlgica',\n",
              " 'ulgica',\n",
              " 'vlgica',\n",
              " 'wlgica',\n",
              " 'xlgica',\n",
              " 'ylgica',\n",
              " 'zlgica',\n",
              " 'àlgica',\n",
              " 'álgica',\n",
              " 'âlgica',\n",
              " 'ãlgica',\n",
              " 'èlgica',\n",
              " 'élgica',\n",
              " 'êlgica',\n",
              " 'ìlgica',\n",
              " 'ílgica',\n",
              " 'îlgica',\n",
              " 'òlgica',\n",
              " 'ólgica',\n",
              " 'ôlgica',\n",
              " 'õlgica',\n",
              " 'ùlgica',\n",
              " 'úlgica',\n",
              " 'ûlgica',\n",
              " 'çlgica',\n",
              " 'lagica',\n",
              " 'lbgica',\n",
              " 'lcgica',\n",
              " 'ldgica',\n",
              " 'legica',\n",
              " 'lfgica',\n",
              " 'lggica',\n",
              " 'lhgica',\n",
              " 'ligica',\n",
              " 'ljgica',\n",
              " 'lkgica',\n",
              " 'llgica',\n",
              " 'lmgica',\n",
              " 'lngica',\n",
              " 'logica',\n",
              " 'lpgica',\n",
              " 'lqgica',\n",
              " 'lrgica',\n",
              " 'lsgica',\n",
              " 'ltgica',\n",
              " 'lugica',\n",
              " 'lvgica',\n",
              " 'lwgica',\n",
              " 'lxgica',\n",
              " 'lygica',\n",
              " 'lzgica',\n",
              " 'làgica',\n",
              " 'lágica',\n",
              " 'lâgica',\n",
              " 'lãgica',\n",
              " 'lègica',\n",
              " 'légica',\n",
              " 'lêgica',\n",
              " 'lìgica',\n",
              " 'lígica',\n",
              " 'lîgica',\n",
              " 'lògica',\n",
              " 'lógica',\n",
              " 'lôgica',\n",
              " 'lõgica',\n",
              " 'lùgica',\n",
              " 'lúgica',\n",
              " 'lûgica',\n",
              " 'lçgica',\n",
              " 'lgaica',\n",
              " 'lgbica',\n",
              " 'lgcica',\n",
              " 'lgdica',\n",
              " 'lgeica',\n",
              " 'lgfica',\n",
              " 'lggica',\n",
              " 'lghica',\n",
              " 'lgiica',\n",
              " 'lgjica',\n",
              " 'lgkica',\n",
              " 'lglica',\n",
              " 'lgmica',\n",
              " 'lgnica',\n",
              " 'lgoica',\n",
              " 'lgpica',\n",
              " 'lgqica',\n",
              " 'lgrica',\n",
              " 'lgsica',\n",
              " 'lgtica',\n",
              " 'lguica',\n",
              " 'lgvica',\n",
              " 'lgwica',\n",
              " 'lgxica',\n",
              " 'lgyica',\n",
              " 'lgzica',\n",
              " 'lgàica',\n",
              " 'lgáica',\n",
              " 'lgâica',\n",
              " 'lgãica',\n",
              " 'lgèica',\n",
              " 'lgéica',\n",
              " 'lgêica',\n",
              " 'lgìica',\n",
              " 'lgíica',\n",
              " 'lgîica',\n",
              " 'lgòica',\n",
              " 'lgóica',\n",
              " 'lgôica',\n",
              " 'lgõica',\n",
              " 'lgùica',\n",
              " 'lgúica',\n",
              " 'lgûica',\n",
              " 'lgçica',\n",
              " 'lgiaca',\n",
              " 'lgibca',\n",
              " 'lgicca',\n",
              " 'lgidca',\n",
              " 'lgieca',\n",
              " 'lgifca',\n",
              " 'lgigca',\n",
              " 'lgihca',\n",
              " 'lgiica',\n",
              " 'lgijca',\n",
              " 'lgikca',\n",
              " 'lgilca',\n",
              " 'lgimca',\n",
              " 'lginca',\n",
              " 'lgioca',\n",
              " 'lgipca',\n",
              " 'lgiqca',\n",
              " 'lgirca',\n",
              " 'lgisca',\n",
              " 'lgitca',\n",
              " 'lgiuca',\n",
              " 'lgivca',\n",
              " 'lgiwca',\n",
              " 'lgixca',\n",
              " 'lgiyca',\n",
              " 'lgizca',\n",
              " 'lgiàca',\n",
              " 'lgiáca',\n",
              " 'lgiâca',\n",
              " 'lgiãca',\n",
              " 'lgièca',\n",
              " 'lgiéca',\n",
              " 'lgiêca',\n",
              " 'lgiìca',\n",
              " 'lgiíca',\n",
              " 'lgiîca',\n",
              " 'lgiòca',\n",
              " 'lgióca',\n",
              " 'lgiôca',\n",
              " 'lgiõca',\n",
              " 'lgiùca',\n",
              " 'lgiúca',\n",
              " 'lgiûca',\n",
              " 'lgiçca',\n",
              " 'lgicaa',\n",
              " 'lgicba',\n",
              " 'lgicca',\n",
              " 'lgicda',\n",
              " 'lgicea',\n",
              " 'lgicfa',\n",
              " 'lgicga',\n",
              " 'lgicha',\n",
              " 'lgicia',\n",
              " 'lgicja',\n",
              " 'lgicka',\n",
              " 'lgicla',\n",
              " 'lgicma',\n",
              " 'lgicna',\n",
              " 'lgicoa',\n",
              " 'lgicpa',\n",
              " 'lgicqa',\n",
              " 'lgicra',\n",
              " 'lgicsa',\n",
              " 'lgicta',\n",
              " 'lgicua',\n",
              " 'lgicva',\n",
              " 'lgicwa',\n",
              " 'lgicxa',\n",
              " 'lgicya',\n",
              " 'lgicza',\n",
              " 'lgicàa',\n",
              " 'lgicáa',\n",
              " 'lgicâa',\n",
              " 'lgicãa',\n",
              " 'lgicèa',\n",
              " 'lgicéa',\n",
              " 'lgicêa',\n",
              " 'lgicìa',\n",
              " 'lgicía',\n",
              " 'lgicîa',\n",
              " 'lgicòa',\n",
              " 'lgicóa',\n",
              " 'lgicôa',\n",
              " 'lgicõa',\n",
              " 'lgicùa',\n",
              " 'lgicúa',\n",
              " 'lgicûa',\n",
              " 'lgicça']"
            ]
          },
          "metadata": {},
          "execution_count": 129
        }
      ]
    },
    {
      "cell_type": "code",
      "source": [
        ""
      ],
      "metadata": {
        "id": "KrCMN4CLD6P3"
      },
      "execution_count": 116,
      "outputs": []
    }
  ]
}