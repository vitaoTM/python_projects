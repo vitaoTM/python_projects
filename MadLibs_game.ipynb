{
 "cells": [
  {
   "cell_type": "code",
   "execution_count": 1,
   "source": [
    "youtuber = \"vitao\"\r\n",
    "\r\n",
    "print(f'subscribe to {youtuber}')"
   ],
   "outputs": [
    {
     "output_type": "stream",
     "name": "stdout",
     "text": [
      "subscribe to vitao\n"
     ]
    }
   ],
   "metadata": {}
  }
 ],
 "metadata": {
  "orig_nbformat": 4,
  "language_info": {
   "name": "python",
   "version": "3.8.10",
   "mimetype": "text/x-python",
   "codemirror_mode": {
    "name": "ipython",
    "version": 3
   },
   "pygments_lexer": "ipython3",
   "nbconvert_exporter": "python",
   "file_extension": ".py"
  },
  "kernelspec": {
   "name": "python3",
   "display_name": "Python 3.8.10 64-bit ('Alura_class2021': conda)"
  },
  "interpreter": {
   "hash": "e7d1211ecd5c5f18dd3b4333e4d5f14468674f718ae8413e7a58d05612591d5c"
  }
 },
 "nbformat": 4,
 "nbformat_minor": 2
}