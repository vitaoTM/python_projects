{
 "cells": [
  {
   "cell_type": "code",
   "execution_count": null,
   "source": [
    "print('Hello World')\r\n",
    "def printa_tudo (x, y):\r\n",
    "    print('Stuff')\r\n",
    "\r\n"
   ],
   "outputs": [],
   "metadata": {}
  },
  {
   "cell_type": "markdown",
   "source": [
    "# Criando uma nova aventura"
   ],
   "metadata": {}
  },
  {
   "cell_type": "code",
   "execution_count": null,
   "source": [],
   "outputs": [],
   "metadata": {}
  }
 ],
 "metadata": {
  "orig_nbformat": 4,
  "language_info": {
   "name": "python"
  }
 },
 "nbformat": 4,
 "nbformat_minor": 2
}